{
 "cells": [
  {
   "cell_type": "markdown",
   "metadata": {},
   "source": [
    "# Criando um Perceptron de Multíplas Camadas\n",
    "\n",
    "Este notebook corresponde a atividade prática da seção 3.4 no livro do curso. Nesta atividade você aprenderá a desenvolver o Multilayer Perceptron (MLP) e aplica-lo para resolver problemas não linearmente separáveis."
   ]
  },
  {
   "cell_type": "markdown",
   "metadata": {},
   "source": [
    "## 1 - Pacotes\n",
    "\n",
    "Execute o bloco abaixo para importar os pacotes necessarios. \n",
    "\n",
    "- [tensorflow](https://www.tensorflow.org/) um framework para machine learning\n",
    "- [numpy](www.numpy.org) pacote de bilbiotecas para computação científica.\n",
    "- [matplotlib](http://matplotlib.org) biblioteca para desenho de gráficos.\n",
    "- [sklearn.datasets](http://scikit-learn.org/stable/datasets/index.html) pacote do scikit-learn para geração de datasets artificiais"
   ]
  },
  {
   "cell_type": "code",
   "execution_count": null,
   "metadata": {
    "scrolled": true
   },
   "outputs": [],
   "source": [
    "import tensorflow as tf\n",
    "import numpy as np\n",
    "import matplotlib.pyplot as plt\n",
    "import sklearn.datasets\n",
    "\n",
    "#código local com a função que desenha os separadores\n",
    "from util import draw_separator\n"
   ]
  },
  {
   "cell_type": "markdown",
   "metadata": {},
   "source": [
    "## 2 - Gerando um dataset artificial\n",
    "\n",
    "As funções \"make\" do módulo datasets do scikit-learn produzem distribuições artificiais que podem ser usados para testar modelos de aprendizado de máquina."
   ]
  },
  {
   "cell_type": "code",
   "execution_count": null,
   "metadata": {
    "scrolled": true
   },
   "outputs": [],
   "source": [
    "#Setando o seed do tensorflow e numpy com 0 para gerar uma sequencia aleatoria conhecida\n",
    "tf.set_random_seed(0)\n",
    "np.random.seed(0)\n",
    "\n",
    "#número de classes do problema\n",
    "num_classes = 2\n",
    "\n",
    "#gerando o dataset (descomente uma das funções abaixo para gerar um dataset)\n",
    "\n",
    "#dataset_X, dataset_Y = sklearn.datasets.make_moons(200, noise=0.20)\n",
    "#dataset_X, dataset_Y = sklearn.datasets.make_circles(200, noise=0.05)\n",
    "#dataset_X, dataset_Y = sklearn.datasets.make_gaussian_quantiles(n_features=2, n_classes=num_classes)\n",
    "\n",
    "#plotando o dataset\n",
    "_ = plt.scatter(dataset_X[:,0], dataset_X[:,1], s=40, c=dataset_Y, cmap=plt.cm.Spectral)\n",
    "\n"
   ]
  },
  {
   "cell_type": "markdown",
   "metadata": {},
   "source": [
    "## 3 - Construindo o modelo MLP\n",
    "\n",
    "A função abaixo cria uma arquitura de rede neural do tipo MLP."
   ]
  },
  {
   "cell_type": "code",
   "execution_count": null,
   "metadata": {},
   "outputs": [],
   "source": [
    "#a função recebe como parametro a quantidade de features e número de classes no problema\n",
    "def build_net(n_features, n_classes):\n",
    "    \n",
    "    #Por praticidade os tensores são salvos neste dicionário\n",
    "    Dic = {}\n",
    "    \n",
    "    # ---- INICIO DA REDE NEURAL ----\n",
    "    \n",
    "    # Placeholders (X (entrada) e Y (saída) da rede)\n",
    "    placeholder_X = tf.placeholder(dtype=tf.float32, shape=[None, n_features])\n",
    "    Dic[\"placeholder_X\"] = placeholder_X\n",
    "    \n",
    "    placeholder_Y = tf.placeholder(dtype=tf.int64, shape=[None])\n",
    "    Dic[\"placeholder_Y\"] = placeholder_Y\n",
    "\n",
    "    # camada escondida\n",
    "    hidden_layer1 = tf.layers.dense(placeholder_X, 10, activation=tf.nn.relu)\n",
    "    Dic[\"layer1\"] = hidden_layer1\n",
    "    \n",
    "    #camada de saída\n",
    "    out = tf.layers.dense(hidden_layer1, n_classes, name=\"output\")\n",
    "     \n",
    "    # ---- FIM DA REDE NEURAL ----\n",
    "    \n",
    "    #adaptando o Label Y para o modelo One-Hot Label\n",
    "    one_hot = tf.one_hot(placeholder_Y, depth=n_classes)\n",
    "    \n",
    "    # Função de perda/custo/erro\n",
    "    loss = tf.losses.softmax_cross_entropy(onehot_labels=one_hot, logits=out) \n",
    "    Dic[\"loss\"] = loss\n",
    "    \n",
    "    # Otimizador\n",
    "    opt = tf.train.GradientDescentOptimizer(learning_rate=0.07).minimize(loss)\n",
    "    Dic[\"opt\"] = opt\n",
    "    \n",
    "    #Softmax\n",
    "    softmax = tf.nn.softmax(out)\n",
    "    Dic[\"softmax\"] = softmax\n",
    "    \n",
    "    #Classe\n",
    "    class_ = tf.argmax(softmax,1)\n",
    "    Dic[\"class\"] = class_\n",
    "    \n",
    "    #Acurácia\n",
    "    compare_prediction = tf.equal(class_, placeholder_Y)\n",
    "    accuracy = tf.reduce_mean(tf.cast(compare_prediction, tf.float32))\n",
    "    Dic[\"accuracy\"] = accuracy\n",
    "    \n",
    "    return Dic"
   ]
  },
  {
   "cell_type": "markdown",
   "metadata": {},
   "source": [
    "## 4 - Iniciando o Tensorflow\n",
    "\n",
    "O código abaixo inicia uma sessão no TensorFlow. E em segudia, carrega o gráfo de computação definido na função \"build_net\"."
   ]
  },
  {
   "cell_type": "code",
   "execution_count": null,
   "metadata": {},
   "outputs": [],
   "source": [
    "#Iniciando\n",
    "sess = tf.InteractiveSession()\n",
    "\n",
    "#obtendo o número de features \n",
    "n_features = dataset_X.shape[1]\n",
    "\n",
    "#construindo o modelo de rede\n",
    "Dic_cg = build_net(n_features,num_classes)\n",
    "\n",
    "#inicializando as variveis do tensorflow\n",
    "sess.run(tf.global_variables_initializer())"
   ]
  },
  {
   "cell_type": "markdown",
   "metadata": {},
   "source": [
    "## 6 - Treinamento da rede\n",
    "\n",
    "Nessa étapa o modelo instanciado é treinado com os dados do dataset. O treinamento ocorre em um loop que é executado 1000 vezes (1000 épocas). A cada 100 épocas o erro é calculado e impresso. Por fim, ao termino do treinamento, é calculada a acurácia do modelo."
   ]
  },
  {
   "cell_type": "code",
   "execution_count": null,
   "metadata": {
    "scrolled": false
   },
   "outputs": [],
   "source": [
    "#definindo o número de épocas\n",
    "epochs = 2000\n",
    "\n",
    "for i in range(epochs):\n",
    "    \n",
    "    sess.run(Dic_cg[\"opt\"], feed_dict={Dic_cg[\"placeholder_X\"]: dataset_X, Dic_cg[\"placeholder_Y\"]: dataset_Y})\n",
    "    \n",
    "    # a cada 100 épocas o erro é impresso\n",
    "    if  i % 100 == 0:\n",
    "        erro_train = sess.run(Dic_cg[\"loss\"], feed_dict={Dic_cg[\"placeholder_X\"]: dataset_X, Dic_cg[\"placeholder_Y\"]: dataset_Y})\n",
    "        print(\"O erro na época\", i,\"é\", erro_train)\n",
    "        \n",
    "#após o fim do treino, é calculada a acurácia\n",
    "acc = sess.run(Dic_cg[\"accuracy\"], feed_dict={Dic_cg[\"placeholder_X\"]: dataset_X, Dic_cg[\"placeholder_Y\"]: dataset_Y})\n",
    "print(\"A accurácia é:\", acc)\n",
    "\n"
   ]
  },
  {
   "cell_type": "markdown",
   "metadata": {},
   "source": [
    "## 6 - Realizando predições\n",
    "\n",
    "Ao executar o tensor \"class\", passando um exemplo como parâmetro é possivel obter a predição correspondente."
   ]
  },
  {
   "cell_type": "code",
   "execution_count": null,
   "metadata": {
    "scrolled": true
   },
   "outputs": [],
   "source": [
    "cla = sess.run(Dic_cg[\"class\"], feed_dict={Dic_cg[\"placeholder_X\"]: dataset_X[:1]})\n",
    "\n",
    "print(\"A Classe do ponto\", dataset_X[:1], \" é:\", cla)"
   ]
  },
  {
   "cell_type": "markdown",
   "metadata": {},
   "source": [
    "## 6 - Visualizando o separador\n",
    "\n",
    "Com a função \"draw_separator\" é possível visualizar como o modelo separada os dados de entrada."
   ]
  },
  {
   "cell_type": "code",
   "execution_count": null,
   "metadata": {},
   "outputs": [],
   "source": [
    "\n",
    "#desenhando o separador\n",
    "draw_separator(dataset_X, dataset_Y, sess, Dic_cg[\"placeholder_X\"], Dic_cg[\"class\"])\n"
   ]
  },
  {
   "cell_type": "code",
   "execution_count": null,
   "metadata": {},
   "outputs": [],
   "source": []
  }
 ],
 "metadata": {
  "kernelspec": {
   "display_name": "Python 3",
   "language": "python",
   "name": "python3"
  },
  "language_info": {
   "codemirror_mode": {
    "name": "ipython",
    "version": 3
   },
   "file_extension": ".py",
   "mimetype": "text/x-python",
   "name": "python",
   "nbconvert_exporter": "python",
   "pygments_lexer": "ipython3",
   "version": "3.6.5"
  }
 },
 "nbformat": 4,
 "nbformat_minor": 2
}
